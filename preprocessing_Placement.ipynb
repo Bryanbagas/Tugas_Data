{
  "nbformat": 4,
  "nbformat_minor": 0,
  "metadata": {
    "colab": {
      "provenance": [],
      "authorship_tag": "ABX9TyPRLOoM6tae8tq/awyf0nES",
      "include_colab_link": true
    },
    "kernelspec": {
      "name": "python3",
      "display_name": "Python 3"
    },
    "language_info": {
      "name": "python"
    }
  },
  "cells": [
    {
      "cell_type": "markdown",
      "metadata": {
        "id": "view-in-github",
        "colab_type": "text"
      },
      "source": [
        "<a href=\"https://colab.research.google.com/github/Bryanbagas/Tugas_Data/blob/main/preprocessing_Placement.ipynb\" target=\"_parent\"><img src=\"https://colab.research.google.com/assets/colab-badge.svg\" alt=\"Open In Colab\"/></a>"
      ]
    },
    {
      "cell_type": "code",
      "execution_count": 50,
      "metadata": {
        "colab": {
          "base_uri": "https://localhost:8080/"
        },
        "id": "silC91sqNB1U",
        "outputId": "edfa0bb8-8ecd-4e68-bb0e-02931b50a9a6"
      },
      "outputs": [
        {
          "output_type": "stream",
          "name": "stdout",
          "text": [
            "Drive already mounted at /content/drive; to attempt to forcibly remount, call drive.mount(\"/content/drive\", force_remount=True).\n"
          ]
        }
      ],
      "source": [
        "from google.colab import drive\n",
        "drive.mount('/content/drive')"
      ]
    },
    {
      "cell_type": "code",
      "source": [
        "import numpy as np\n",
        "import pandas as pd\n",
        "from sklearn.impute import SimpleImputer\n",
        "from sklearn.compose import ColumnTransformer\n",
        "from sklearn.preprocessing import OneHotEncoder, LabelEncoder\n",
        "from sklearn.model_selection import train_test_split\n",
        "from sklearn.preprocessing import StandardScaler"
      ],
      "metadata": {
        "id": "NTxTQd0MNZTy"
      },
      "execution_count": 51,
      "outputs": []
    },
    {
      "cell_type": "code",
      "source": [
        "dataset = pd.read_csv('/content/drive/MyDrive/Placement_Data_Full_Class.csv')"
      ],
      "metadata": {
        "id": "JZujyoHiNcd-"
      },
      "execution_count": 52,
      "outputs": []
    },
    {
      "cell_type": "code",
      "source": [
        "X = dataset.iloc[:, :-1].values\n",
        "y = dataset.iloc[:, -1].values\n"
      ],
      "metadata": {
        "id": "kX6kN1gCNgvH"
      },
      "execution_count": 53,
      "outputs": []
    },
    {
      "cell_type": "code",
      "source": [
        "print(\"Dataset X (Fitur) sebelum preprocessing:\")\n",
        "print(X)\n",
        "print(\"\\nTarget y (Label):\")\n",
        "print(y)"
      ],
      "metadata": {
        "colab": {
          "base_uri": "https://localhost:8080/"
        },
        "id": "8987h9quOd5h",
        "outputId": "801ca555-e71d-4825-d48a-4f4727311b3b"
      },
      "execution_count": 54,
      "outputs": [
        {
          "output_type": "stream",
          "name": "stdout",
          "text": [
            "Dataset X (Fitur) sebelum preprocessing:\n",
            "[[1 'M' 67.0 ... 'Mkt&HR' 58.8 'Placed']\n",
            " [2 'M' 79.33 ... 'Mkt&Fin' 66.28 'Placed']\n",
            " [3 'M' 65.0 ... 'Mkt&Fin' 57.8 'Placed']\n",
            " ...\n",
            " [213 'M' 67.0 ... 'Mkt&Fin' 69.72 'Placed']\n",
            " [214 'F' 74.0 ... 'Mkt&HR' 60.23 'Placed']\n",
            " [215 'M' 62.0 ... 'Mkt&HR' 60.22 'Not Placed']]\n",
            "\n",
            "Target y (Label):\n",
            "[270000. 200000. 250000.     nan 425000.     nan     nan 252000. 231000.\n",
            "     nan 260000. 250000.     nan 218000.     nan 200000. 300000.     nan\n",
            "     nan 236000. 265000. 393000. 360000. 300000. 360000.     nan 240000.\n",
            " 265000. 350000.     nan 250000.     nan 278000. 260000.     nan 300000.\n",
            "     nan 320000. 240000. 411000. 287000.     nan     nan 300000. 200000.\n",
            "     nan     nan 204000. 250000.     nan 200000.     nan     nan 450000.\n",
            " 216000. 220000. 240000. 360000. 268000. 265000. 260000. 300000. 240000.\n",
            "     nan 240000.     nan 275000. 275000.     nan 275000. 360000. 240000.\n",
            " 240000. 218000. 336000.     nan 230000. 500000. 270000.     nan 240000.\n",
            " 300000.     nan 300000. 300000. 400000. 220000.     nan 210000. 210000.\n",
            " 300000.     nan 230000.     nan 260000. 420000. 300000.     nan 220000.\n",
            "     nan     nan 380000. 300000. 240000. 360000.     nan     nan 200000.\n",
            " 300000.     nan 250000.     nan 250000. 280000. 250000. 216000. 300000.\n",
            " 240000. 276000. 940000.     nan 250000. 236000. 240000. 250000. 350000.\n",
            " 210000. 250000. 400000. 250000.     nan 360000. 300000. 250000. 250000.\n",
            " 200000.     nan 225000. 250000. 220000. 265000.     nan 260000. 300000.\n",
            "     nan 400000. 233000. 300000. 240000.     nan 690000. 270000. 240000.\n",
            " 340000. 250000.     nan 255000. 300000.     nan     nan 300000.     nan\n",
            " 285000. 500000. 250000.     nan 240000.     nan     nan     nan     nan\n",
            " 290000. 300000.     nan 500000.     nan 220000. 650000. 350000.     nan\n",
            " 265000.     nan     nan 276000.     nan 252000.     nan 280000.     nan\n",
            "     nan     nan 264000. 270000. 300000.     nan 275000. 250000. 260000.\n",
            "     nan 265000. 300000.     nan 240000. 260000. 210000. 250000.     nan\n",
            " 300000.     nan 216000. 400000. 275000. 295000. 204000.     nan]\n"
          ]
        }
      ]
    },
    {
      "cell_type": "code",
      "source": [
        "imputer = SimpleImputer(missing_values=np.nan, strategy='most_frequent')\n",
        "imputer.fit(X[:, 2:4])  # Misalnya, pada kolom numerik seperti ssc_p dan hsc_p\n",
        "X[:, 2:4] = imputer.transform(X[:, 2:4])"
      ],
      "metadata": {
        "id": "GFhf1BfINjfZ"
      },
      "execution_count": 55,
      "outputs": []
    },
    {
      "cell_type": "code",
      "source": [
        "print(\"\\nDataset X setelah penanganan missing values:\")\n",
        "print(X)"
      ],
      "metadata": {
        "colab": {
          "base_uri": "https://localhost:8080/"
        },
        "id": "g7cBFYFCOjGL",
        "outputId": "8d0579e5-cde5-4d9e-c458-2cac63f0e376"
      },
      "execution_count": 56,
      "outputs": [
        {
          "output_type": "stream",
          "name": "stdout",
          "text": [
            "\n",
            "Dataset X setelah penanganan missing values:\n",
            "[[1 'M' 67.0 ... 'Mkt&HR' 58.8 'Placed']\n",
            " [2 'M' 79.33 ... 'Mkt&Fin' 66.28 'Placed']\n",
            " [3 'M' 65.0 ... 'Mkt&Fin' 57.8 'Placed']\n",
            " ...\n",
            " [213 'M' 67.0 ... 'Mkt&Fin' 69.72 'Placed']\n",
            " [214 'F' 74.0 ... 'Mkt&HR' 60.23 'Placed']\n",
            " [215 'M' 62.0 ... 'Mkt&HR' 60.22 'Not Placed']]\n"
          ]
        }
      ]
    },
    {
      "source": [
        "categorical_features = [1, 3, 5, 7, 9, 11]\n",
        "ct = ColumnTransformer(transformers=[('encoder', OneHotEncoder(sparse_output=False, handle_unknown='ignore'), categorical_features)], remainder='passthrough')\n",
        "X = np.array(ct.fit_transform(X)) # Apply the transformation"
      ],
      "cell_type": "code",
      "metadata": {
        "id": "BPGVEPn-QH7a"
      },
      "execution_count": 57,
      "outputs": []
    },
    {
      "cell_type": "code",
      "source": [
        "print(\"\\nDataset X setelah encoding kolom kategori:\")\n",
        "print(X)"
      ],
      "metadata": {
        "colab": {
          "base_uri": "https://localhost:8080/"
        },
        "id": "j1gE5bjnOmfT",
        "outputId": "64e782b4-6a2b-4dd5-ca5d-eda1ff95efb8"
      },
      "execution_count": 58,
      "outputs": [
        {
          "output_type": "stream",
          "name": "stdout",
          "text": [
            "\n",
            "Dataset X setelah encoding kolom kategori:\n",
            "[[0.0 1.0 0.0 ... 55.0 58.8 'Placed']\n",
            " [0.0 1.0 1.0 ... 86.5 66.28 'Placed']\n",
            " [0.0 1.0 1.0 ... 75.0 57.8 'Placed']\n",
            " ...\n",
            " [0.0 1.0 0.0 ... 59.0 69.72 'Placed']\n",
            " [1.0 0.0 0.0 ... 70.0 60.23 'Placed']\n",
            " [0.0 1.0 1.0 ... 89.0 60.22 'Not Placed']]\n"
          ]
        }
      ]
    },
    {
      "cell_type": "code",
      "source": [
        "le = LabelEncoder()\n",
        "y = le.fit_transform(y)"
      ],
      "metadata": {
        "id": "tAJdr4d9Np3Y"
      },
      "execution_count": 59,
      "outputs": []
    },
    {
      "cell_type": "code",
      "source": [
        "print(\"\\nTarget y setelah encoding:\")\n",
        "print(y)"
      ],
      "metadata": {
        "colab": {
          "base_uri": "https://localhost:8080/"
        },
        "id": "TDcBMugGOrHj",
        "outputId": "2a86b1b0-3fc2-4ad1-d578-3b38c2d6c65c"
      },
      "execution_count": 60,
      "outputs": [
        {
          "output_type": "stream",
          "name": "stdout",
          "text": [
            "\n",
            "Target y setelah encoding:\n",
            "[19  0 12 45 39 45 45 13  8 45 15 12 45  4 45  0 28 45 45 10 17 35 33 28\n",
            " 33 45 11 17 32 45 12 45 22 15 45 28 45 29 11 37 25 45 45 28  0 45 45  1\n",
            " 12 45  0 45 45 40  3  5 11 33 18 17 15 28 11 45 11 45 20 20 45 20 33 11\n",
            " 11  4 30 45  7 41 19 45 11 28 45 28 28 36  5 45  2  2 28 45  7 45 15 38\n",
            " 28 45  5 45 45 34 28 11 33 45 45  0 28 45 12 45 12 23 12  3 28 11 21 44\n",
            " 45 12 10 11 12 32  2 12 36 12 45 33 28 12 12  0 45  6 12  5 17 45 15 28\n",
            " 45 36  9 28 11 45 43 19 11 31 12 45 14 28 45 45 28 45 24 41 12 45 11 45\n",
            " 45 45 45 26 28 45 41 45  5 42 32 45 17 45 45 21 45 13 45 23 45 45 45 16\n",
            " 19 28 45 20 12 15 45 17 28 45 11 15  2 12 45 28 45  3 36 20 27  1 45]\n"
          ]
        }
      ]
    },
    {
      "cell_type": "code",
      "source": [
        "X_train, X_test, y_train, y_test = train_test_split(X, y, test_size=0.2, random_state=0)"
      ],
      "metadata": {
        "id": "4ehaBmaONtEV"
      },
      "execution_count": 61,
      "outputs": []
    },
    {
      "cell_type": "code",
      "source": [
        "print(\"\\nX_train setelah split:\")\n",
        "print(X_train)\n",
        "print(\"\\nX_test setelah split:\")\n",
        "print(X_test)\n",
        "\n",
        "print(\"\\ny_train setelah split:\")\n",
        "print(y_train)\n",
        "print(\"\\ny_test setelah split:\")\n",
        "print(y_test)"
      ],
      "metadata": {
        "colab": {
          "base_uri": "https://localhost:8080/"
        },
        "id": "PTgeJkqgOvsp",
        "outputId": "d8a6f249-95b8-4cf5-b437-dfe08f8c2a59"
      },
      "execution_count": 62,
      "outputs": [
        {
          "output_type": "stream",
          "name": "stdout",
          "text": [
            "\n",
            "X_train setelah split:\n",
            "[[0.0 1.0 1.0 ... 60.0 62.54 'Placed']\n",
            " [1.0 0.0 1.0 ... 55.6 65.63 'Placed']\n",
            " [1.0 0.0 1.0 ... 80.4 71.0 'Placed']\n",
            " ...\n",
            " [0.0 1.0 0.0 ... 80.0 67.05 'Placed']\n",
            " [0.0 1.0 1.0 ... 78.0 54.55 'Placed']\n",
            " [0.0 1.0 0.0 ... 84.0 52.64 'Placed']]\n",
            "\n",
            "X_test setelah split:\n",
            "[[1.0 0.0 1.0 ... 88.0 71.96 'Not Placed']\n",
            " [1.0 0.0 1.0 ... 58.0 55.47 'Placed']\n",
            " [1.0 0.0 0.0 ... 62.0 62.36 'Placed']\n",
            " ...\n",
            " [0.0 1.0 0.0 ... 71.0 65.69 'Not Placed']\n",
            " [0.0 1.0 1.0 ... 63.0 60.02 'Not Placed']\n",
            " [0.0 1.0 1.0 ... 58.0 54.43 'Placed']]\n",
            "\n",
            "y_train setelah split:\n",
            "[28  0 10 33 11 45  7 39 28 15  0 12 45 20 11 28 45 28  8 25 12  4 45 45\n",
            " 33 12 15 11 45  7 10 45 33  3 45 45 12 45 45  0 23 11 34 12 45 17 28 45\n",
            " 17 45  9 36 45 11 11 12 17 45 28 28 15 21  4 45 45 16 14  5 45 45 12 45\n",
            " 12  0 23 19 15 32 38 11 43 45 20 45 12 36 27 28 19 45 33 12  1 45 45 28\n",
            " 12 45 45 21 32 17 45 45 12 44 28 28 33 45  0 45 45 45 45 28 45 45 11 12\n",
            " 40 12 11 36 45 32 12 41 19 45  5 12 45 22 45 15 17 28 45 42 45 45 45 45\n",
            "  3 11 28 11 41 45 45 28 11 41  2 37 28 18 17  2 33 45 45 35 45 11 20 20\n",
            " 19 11  1 28]\n",
            "\n",
            "y_test setelah split:\n",
            "[45 29  2 45 26 45 28  6 45 28  5 36 28 12 30 15  2 45 31 45 45 45  3 45\n",
            " 45 45 13  0  5 11 13 45 28 45 45 24 15 12 28 20 45 45  5]\n"
          ]
        }
      ]
    },
    {
      "source": [
        "import pandas as pd\n",
        "from sklearn.preprocessing import StandardScaler, LabelEncoder\n",
        "from sklearn.model_selection import train_test_split\n",
        "\n",
        "X = pd.DataFrame(X)\n",
        "\n",
        "numerical_cols = X.select_dtypes"
      ],
      "cell_type": "code",
      "metadata": {
        "id": "2RkzLUYEQgia"
      },
      "execution_count": 63,
      "outputs": []
    },
    {
      "cell_type": "code",
      "source": [
        "print(\"\\nX_train setelah feature scaling:\")\n",
        "print(X_train)\n",
        "print(\"\\nX_test setelah feature scaling:\")\n",
        "print(X_test)"
      ],
      "metadata": {
        "colab": {
          "base_uri": "https://localhost:8080/"
        },
        "id": "-X_l4wLpNw6_",
        "outputId": "984f0752-c668-4e32-ccbd-6097e810f1ab"
      },
      "execution_count": 64,
      "outputs": [
        {
          "output_type": "stream",
          "name": "stdout",
          "text": [
            "\n",
            "X_train setelah feature scaling:\n",
            "[[0.0 1.0 1.0 ... 60.0 62.54 'Placed']\n",
            " [1.0 0.0 1.0 ... 55.6 65.63 'Placed']\n",
            " [1.0 0.0 1.0 ... 80.4 71.0 'Placed']\n",
            " ...\n",
            " [0.0 1.0 0.0 ... 80.0 67.05 'Placed']\n",
            " [0.0 1.0 1.0 ... 78.0 54.55 'Placed']\n",
            " [0.0 1.0 0.0 ... 84.0 52.64 'Placed']]\n",
            "\n",
            "X_test setelah feature scaling:\n",
            "[[1.0 0.0 1.0 ... 88.0 71.96 'Not Placed']\n",
            " [1.0 0.0 1.0 ... 58.0 55.47 'Placed']\n",
            " [1.0 0.0 0.0 ... 62.0 62.36 'Placed']\n",
            " ...\n",
            " [0.0 1.0 0.0 ... 71.0 65.69 'Not Placed']\n",
            " [0.0 1.0 1.0 ... 63.0 60.02 'Not Placed']\n",
            " [0.0 1.0 1.0 ... 58.0 54.43 'Placed']]\n"
          ]
        }
      ]
    }
  ]
}